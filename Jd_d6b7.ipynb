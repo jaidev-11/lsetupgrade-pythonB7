{
  "nbformat": 4,
  "nbformat_minor": 0,
  "metadata": {
    "colab": {
      "name": "Jd_d6b7.ipynb",
      "provenance": [],
      "collapsed_sections": []
    },
    "kernelspec": {
      "name": "python3",
      "display_name": "Python 3"
    }
  },
  "cells": [
    {
      "cell_type": "code",
      "metadata": {
        "id": "RyzOuvHj2AmR",
        "colab_type": "code",
        "colab": {
          "base_uri": "https://localhost:8080/",
          "height": 170
        },
        "outputId": "815532b8-68ff-490e-dd20-293a9fb6be5a"
      },
      "source": [
        "class bankac: \n",
        "  def __init__(self):\n",
        "    self.balance=0\n",
        "    print(\"Hello!!! Welcome to the Deposit & Withdrawal\") \n",
        "      \n",
        "  def deposit(self):\n",
        "    amount=float(input(\"Enter amount to be Deposited: \"))\n",
        "    self.balance += amount\n",
        "    print(\"\\n Amount Deposited:\",amount) \n",
        "  \n",
        "  def withdraw(self):\n",
        "    amount = float(input(\"Enter amount to be Withdrawn: \"))\n",
        "    if self.balance>=amount:\n",
        "      self.balance-=amount\n",
        "      print(\"\\n You Withdrew:\", amount)\n",
        "    else:\n",
        "      print(\"\\n Insufficient balance  \") \n",
        "  \n",
        "  def display(self):\n",
        "    print(\"\\n Net Available Balance=\",self.balance)\n",
        "\n",
        "s = bankac() \n",
        "\n",
        "s.deposit() \n",
        "s.withdraw() \n",
        "s.display() "
      ],
      "execution_count": 30,
      "outputs": [
        {
          "output_type": "stream",
          "text": [
            "Hello!!! Welcome to the Deposit & Withdrawal\n",
            "Enter amount to be Deposited: 5000\n",
            "\n",
            " Amount Deposited: 5000.0\n",
            "Enter amount to be Withdrawn: 5000\n",
            "\n",
            " You Withdrew: 5000.0\n",
            "\n",
            " Net Available Balance= 0.0\n"
          ],
          "name": "stdout"
        }
      ]
    },
    {
      "cell_type": "code",
      "metadata": {
        "id": "B2ztkIxDTHn7",
        "colab_type": "code",
        "colab": {
          "base_uri": "https://localhost:8080/",
          "height": 51
        },
        "outputId": "b35c9e58-1b31-4cb0-fcd8-0d8979e6bbef"
      },
      "source": [
        "import math \n",
        "pi = math.pi \n",
        "\n",
        "def volume(r, h): \n",
        "    return (1 / 3) * pi * r * r * h \n",
        "\n",
        "def surfacearea(r, s): \n",
        "    return pi * r * s + pi * r * r \n",
        "\n",
        "radius = float(7) \n",
        "height = float(8) \n",
        "slat_height = float(9) \n",
        "print( \"Volume Of Cone : \", volume(radius, height) ) \n",
        "print( \"Surface Area Of Cone : \", surfacearea(radius, slat_height) ) "
      ],
      "execution_count": 28,
      "outputs": [
        {
          "output_type": "stream",
          "text": [
            "Volume Of Cone :  410.5014400690663\n",
            "Surface Area Of Cone :  351.85837720205683\n"
          ],
          "name": "stdout"
        }
      ]
    }
  ]
}