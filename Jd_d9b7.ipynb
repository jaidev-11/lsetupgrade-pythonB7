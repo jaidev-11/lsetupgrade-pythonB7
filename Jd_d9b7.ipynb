{
  "nbformat": 4,
  "nbformat_minor": 0,
  "metadata": {
    "colab": {
      "name": "Jd_d9b7.ipynb",
      "provenance": [],
      "collapsed_sections": []
    },
    "kernelspec": {
      "name": "python3",
      "display_name": "Python 3"
    }
  },
  "cells": [
    {
      "cell_type": "code",
      "metadata": {
        "id": "oqWXbD6SghzA",
        "colab_type": "code",
        "colab": {
          "base_uri": "https://localhost:8080/",
          "height": 34
        },
        "outputId": "94bff5a0-cbf4-4466-9c04-5bb8a5fa3aa9"
      },
      "source": [
        "%%writefile prime_code.py\n",
        "'''\n",
        "its a prime num checking program\n",
        "'''\n",
        "def is_prime(num):\n",
        "    '''\n",
        "    its a prime number checking program\n",
        "    '''\n",
        "    if num <= 1:\n",
        "        return False\n",
        "    if num <= 3:\n",
        "        return True\n",
        "    if num % 2 == 0 or num % 3 == 0:\n",
        "        return False\n",
        "    i = 5\n",
        "    while i * i <= num:\n",
        "        if num % i == 0 or num % (i + 2) == 0:\n",
        "            return False\n",
        "        i = i + 6\n",
        "        return True\n",
        "    if is_prime(11):\n",
        "        print(\"True\")\n",
        "    else:\n",
        "        print(\"False\")\n",
        "    if is_prime(15):\n",
        "        print(\"True\")\n",
        "    else:\n",
        "        print(\"False\")\n",
        "\n"
      ],
      "execution_count": 21,
      "outputs": [
        {
          "output_type": "stream",
          "text": [
            "Writing prime_code.py\n"
          ],
          "name": "stdout"
        }
      ]
    },
    {
      "cell_type": "code",
      "metadata": {
        "id": "4lMPPSdPgmpV",
        "colab_type": "code",
        "colab": {
          "base_uri": "https://localhost:8080/",
          "height": 85
        },
        "outputId": "a0a96599-d6d8-47b5-cb1d-993a1dde4bd5"
      },
      "source": [
        "! pylint prime_code.py"
      ],
      "execution_count": 22,
      "outputs": [
        {
          "output_type": "stream",
          "text": [
            "\n",
            "------------------------------------\n",
            "Your code has been rated at 10.00/10\n",
            "\n"
          ],
          "name": "stdout"
        }
      ]
    },
    {
      "cell_type": "code",
      "metadata": {
        "id": "jks4_9BLhlaA",
        "colab_type": "code",
        "colab": {
          "base_uri": "https://localhost:8080/",
          "height": 119
        },
        "outputId": "a051483b-b7aa-49f5-8ef7-14ab86652e26"
      },
      "source": [
        "lower = int(input(\"enter the lower limit \"))\n",
        "upper = int(input(\"enter the upper limit \"))\n",
        "\n",
        "for num in range(lower, upper + 1):\n",
        "\n",
        "   # order of number\n",
        "   order = len(str(num))\n",
        "    \n",
        "   # initialize sum\n",
        "   sum = 0\n",
        "\n",
        "   temp = num\n",
        "   while temp > 0:\n",
        "       digit = temp % 10\n",
        "       sum += digit ** order\n",
        "       temp //= 10\n",
        "\n",
        "   if num == sum:\n",
        "       print(num)\n",
        "       pass\n",
        "   else:\n",
        "     pass"
      ],
      "execution_count": 23,
      "outputs": [
        {
          "output_type": "stream",
          "text": [
            "enter the lower limit 100\n",
            "enter the upper limit 1000\n",
            "153\n",
            "370\n",
            "371\n",
            "407\n"
          ],
          "name": "stdout"
        }
      ]
    },
    {
      "cell_type": "code",
      "metadata": {
        "id": "o5Q3Cdphhr8q",
        "colab_type": "code",
        "colab": {
          "base_uri": "https://localhost:8080/",
          "height": 85
        },
        "outputId": "b343aa24-075e-4a58-c7aa-951c27f176e5"
      },
      "source": [
        "def simpleFun():\n",
        "    yield 153\n",
        "    yield 370\n",
        "    yield 371\n",
        "    yield 407\n",
        "\n",
        "x = simpleFun() \n",
        "\n",
        "print(x.__next__())\n",
        "print(x.__next__())\n",
        "print(x.__next__())\n",
        "print(x.__next__())"
      ],
      "execution_count": 24,
      "outputs": [
        {
          "output_type": "stream",
          "text": [
            "153\n",
            "370\n",
            "371\n",
            "407\n"
          ],
          "name": "stdout"
        }
      ]
    }
  ]
}