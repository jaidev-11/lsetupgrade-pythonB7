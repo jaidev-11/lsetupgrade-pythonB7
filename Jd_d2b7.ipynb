{
  "nbformat": 4,
  "nbformat_minor": 0,
  "metadata": {
    "colab": {
      "name": "Jd_d2b7.ipynb",
      "provenance": [],
      "collapsed_sections": []
    },
    "kernelspec": {
      "name": "python3",
      "display_name": "Python 3"
    }
  },
  "cells": [
    {
      "cell_type": "code",
      "metadata": {
        "id": "f0DwvL-q5QLD",
        "colab_type": "code",
        "colab": {
          "base_uri": "https://localhost:8080/",
          "height": 35
        },
        "outputId": "a41d3537-fd5b-4b61-9497-edd9b8af9651"
      },
      "source": [
        "lst = [1,22,47.5831,1452.0,\"jd\",\"me coding this\"]\n",
        "lst[4][1]"
      ],
      "execution_count": 19,
      "outputs": [
        {
          "output_type": "execute_result",
          "data": {
            "application/vnd.google.colaboratory.intrinsic+json": {
              "type": "string"
            },
            "text/plain": [
              "'d'"
            ]
          },
          "metadata": {
            "tags": []
          },
          "execution_count": 19
        }
      ]
    },
    {
      "cell_type": "code",
      "metadata": {
        "id": "vhKaEwdFGKXf",
        "colab_type": "code",
        "colab": {
          "base_uri": "https://localhost:8080/",
          "height": 34
        },
        "outputId": "b27e1270-9694-4fb4-8488-329fc6bfd585"
      },
      "source": [
        "lst = [1,22,47.5831,1452.0,\"jd\",\"me coding this\"]\n",
        "lst.append(2.0145);\n",
        "print(lst)"
      ],
      "execution_count": 18,
      "outputs": [
        {
          "output_type": "stream",
          "text": [
            "[1, 22, 47.5831, 1452.0, 'jd', 'me coding this', 2.0145]\n"
          ],
          "name": "stdout"
        }
      ]
    },
    {
      "cell_type": "code",
      "metadata": {
        "id": "4aVCzrf1GPLa",
        "colab_type": "code",
        "colab": {
          "base_uri": "https://localhost:8080/",
          "height": 34
        },
        "outputId": "25af22b1-77cc-4679-8139-7d7a5605b60c"
      },
      "source": [
        "lst = [1,22,47.5831,1452.0,\"jd\",\"me coding this\"]\n",
        "lst1 = [\"shree\",125.014]\n",
        "lst.extend(lst1)\n",
        "print(lst)"
      ],
      "execution_count": 20,
      "outputs": [
        {
          "output_type": "stream",
          "text": [
            "[1, 22, 47.5831, 1452.0, 'jd', 'me coding this', 'shree', 125.014]\n"
          ],
          "name": "stdout"
        }
      ]
    },
    {
      "cell_type": "code",
      "metadata": {
        "id": "zgBAAt7BHFDp",
        "colab_type": "code",
        "colab": {
          "base_uri": "https://localhost:8080/",
          "height": 34
        },
        "outputId": "5b0e7e98-90fe-4698-b0e1-068d68dd47c8"
      },
      "source": [
        "lst = [1,22,47.5831,1452.0,\"jd\",\"me coding this\"]\n",
        "lst.pop(5)\n",
        "print(lst)"
      ],
      "execution_count": 21,
      "outputs": [
        {
          "output_type": "stream",
          "text": [
            "[1, 22, 47.5831, 1452.0, 'jd']\n"
          ],
          "name": "stdout"
        }
      ]
    },
    {
      "cell_type": "code",
      "metadata": {
        "id": "k-LAeI-gHpb3",
        "colab_type": "code",
        "colab": {
          "base_uri": "https://localhost:8080/",
          "height": 34
        },
        "outputId": "9c86f09e-f851-4a31-98b4-7d8269ea2685"
      },
      "source": [
        "lst = [1,22,47.5831,1452.0,\"jd\",\"me coding this\"]\n",
        "lst.index(1452.0)"
      ],
      "execution_count": 25,
      "outputs": [
        {
          "output_type": "execute_result",
          "data": {
            "text/plain": [
              "3"
            ]
          },
          "metadata": {
            "tags": []
          },
          "execution_count": 25
        }
      ]
    },
    {
      "cell_type": "code",
      "metadata": {
        "id": "O_dC0k3CH5yK",
        "colab_type": "code",
        "colab": {
          "base_uri": "https://localhost:8080/",
          "height": 34
        },
        "outputId": "d8ecd31e-8326-4d86-e674-7d8807c4bdb3"
      },
      "source": [
        "lst = [\"abs\",\"yeti\",\"ford\",\"jaguar\",\"me coding this\"]\n",
        "lst.sort()\n",
        "print(lst)"
      ],
      "execution_count": 28,
      "outputs": [
        {
          "output_type": "stream",
          "text": [
            "['abs', 'ford', 'jaguar', 'me coding this', 'yeti']\n"
          ],
          "name": "stdout"
        }
      ]
    },
    {
      "cell_type": "code",
      "metadata": {
        "id": "GrhV9wSpMbI-",
        "colab_type": "code",
        "colab": {
          "base_uri": "https://localhost:8080/",
          "height": 34
        },
        "outputId": "87a6186d-324b-4d10-ec2d-891c709ee271"
      },
      "source": [
        "dit = {\"Name\":\"jd\",\"age\":\"20\",\"school\":\"fchs\",\"email\":\"abc@gmail.com\"}\n",
        "dit"
      ],
      "execution_count": 35,
      "outputs": [
        {
          "output_type": "execute_result",
          "data": {
            "text/plain": [
              "{'Name': 'jd', 'age': '20', 'email': 'abc@gmail.com', 'school': 'fchs'}"
            ]
          },
          "metadata": {
            "tags": []
          },
          "execution_count": 35
        }
      ]
    },
    {
      "cell_type": "code",
      "metadata": {
        "id": "AW0wFQkGSG6Z",
        "colab_type": "code",
        "colab": {
          "base_uri": "https://localhost:8080/",
          "height": 35
        },
        "outputId": "a746d2b4-f3ea-4e84-d4f2-27dbe5d97294"
      },
      "source": [
        "dit = {\"Name\":\"jd\",\"age\":\"20\",\"school\":\"fchs\",\"email\":\"abc@gmail.com\"}\n",
        "dit.get('Name')"
      ],
      "execution_count": 38,
      "outputs": [
        {
          "output_type": "execute_result",
          "data": {
            "application/vnd.google.colaboratory.intrinsic+json": {
              "type": "string"
            },
            "text/plain": [
              "'jd'"
            ]
          },
          "metadata": {
            "tags": []
          },
          "execution_count": 38
        }
      ]
    },
    {
      "cell_type": "code",
      "metadata": {
        "id": "fwMLfHRCSZ7b",
        "colab_type": "code",
        "colab": {
          "base_uri": "https://localhost:8080/",
          "height": 34
        },
        "outputId": "bceceda8-d2a4-435e-965e-034f9b4d3bc1"
      },
      "source": [
        "dit = {\"Name\":\"jd\",\"age\":\"20\",\"school\":\"fchs\",\"email\":\"abc@gmail.com\"}\n",
        "dit.items()"
      ],
      "execution_count": 39,
      "outputs": [
        {
          "output_type": "execute_result",
          "data": {
            "text/plain": [
              "dict_items([('Name', 'jd'), ('age', '20'), ('school', 'fchs'), ('email', 'abc@gmail.com')])"
            ]
          },
          "metadata": {
            "tags": []
          },
          "execution_count": 39
        }
      ]
    },
    {
      "cell_type": "code",
      "metadata": {
        "id": "y5d4ocplSoHf",
        "colab_type": "code",
        "colab": {
          "base_uri": "https://localhost:8080/",
          "height": 34
        },
        "outputId": "a0de27f2-a2c0-406d-9ac0-5b62478fd17c"
      },
      "source": [
        "dit = {\"Name\":\"jd\",\"age\":\"20\",\"school\":\"fchs\",\"email\":\"abc@gmail.com\"}\n",
        "dit.keys()"
      ],
      "execution_count": 40,
      "outputs": [
        {
          "output_type": "execute_result",
          "data": {
            "text/plain": [
              "dict_keys(['Name', 'age', 'school', 'email'])"
            ]
          },
          "metadata": {
            "tags": []
          },
          "execution_count": 40
        }
      ]
    },
    {
      "cell_type": "code",
      "metadata": {
        "id": "nrMbbaf5S0JK",
        "colab_type": "code",
        "colab": {
          "base_uri": "https://localhost:8080/",
          "height": 35
        },
        "outputId": "3e7b524a-59e1-4812-c1dc-3618ef625a76"
      },
      "source": [
        "dit = {\"Name\":\"jd\",\"age\":\"20\",\"school\":\"fchs\",\"email\":\"abc@gmail.com\"}\n",
        "dit.pop('age')"
      ],
      "execution_count": 42,
      "outputs": [
        {
          "output_type": "execute_result",
          "data": {
            "application/vnd.google.colaboratory.intrinsic+json": {
              "type": "string"
            },
            "text/plain": [
              "'20'"
            ]
          },
          "metadata": {
            "tags": []
          },
          "execution_count": 42
        }
      ]
    },
    {
      "cell_type": "code",
      "metadata": {
        "id": "09fBdBPqTDNX",
        "colab_type": "code",
        "colab": {
          "base_uri": "https://localhost:8080/",
          "height": 102
        },
        "outputId": "512610b4-d741-4723-ffb2-f2f431911944"
      },
      "source": [
        "dit = {\"Name\":\"jd\",\"age\":\"20\",\"school\":\"fchs\",\"email\":\"abc@gmail.com\"}\n",
        "dit[\"num\"] = \"123456\"\n",
        "dit"
      ],
      "execution_count": 43,
      "outputs": [
        {
          "output_type": "execute_result",
          "data": {
            "text/plain": [
              "{'Name': 'jd',\n",
              " 'age': '20',\n",
              " 'email': 'abc@gmail.com',\n",
              " 'num': '123456',\n",
              " 'school': 'fchs'}"
            ]
          },
          "metadata": {
            "tags": []
          },
          "execution_count": 43
        }
      ]
    },
    {
      "cell_type": "code",
      "metadata": {
        "id": "rZ22wTJhTZIb",
        "colab_type": "code",
        "colab": {
          "base_uri": "https://localhost:8080/",
          "height": 34
        },
        "outputId": "1ae9fdc7-12f3-43e4-b9e0-fa4c85d45a9e"
      },
      "source": [
        "st ={\"jd\",\"coding\",11,2504,267.5874,-2140}\n",
        "st"
      ],
      "execution_count": 44,
      "outputs": [
        {
          "output_type": "execute_result",
          "data": {
            "text/plain": [
              "{-2140, 11, 2504, 267.5874, 'coding', 'jd'}"
            ]
          },
          "metadata": {
            "tags": []
          },
          "execution_count": 44
        }
      ]
    },
    {
      "cell_type": "code",
      "metadata": {
        "id": "iAYZKKy_T70U",
        "colab_type": "code",
        "colab": {
          "base_uri": "https://localhost:8080/",
          "height": 34
        },
        "outputId": "37842bcd-9de3-49fe-e294-4fade91f5547"
      },
      "source": [
        "st = {\"jd\",\"coding\",11,2504,267.5874,-2140}\n",
        "st.discard(11)\n",
        "st"
      ],
      "execution_count": 48,
      "outputs": [
        {
          "output_type": "execute_result",
          "data": {
            "text/plain": [
              "{-2140, 2504, 267.5874, 'coding', 'jd'}"
            ]
          },
          "metadata": {
            "tags": []
          },
          "execution_count": 48
        }
      ]
    },
    {
      "cell_type": "code",
      "metadata": {
        "id": "Gx6HpCzOU6x1",
        "colab_type": "code",
        "colab": {
          "base_uri": "https://localhost:8080/",
          "height": 34
        },
        "outputId": "f9c73a95-aeb0-4d0d-d9ed-8bb7943256b5"
      },
      "source": [
        "st = {\"jd\",\"coding\",11,2504,267.5874,-2140}\n",
        "st1 = {\"name\",\"bmw\"}\n",
        "st1.issubset(st)"
      ],
      "execution_count": 50,
      "outputs": [
        {
          "output_type": "execute_result",
          "data": {
            "text/plain": [
              "False"
            ]
          },
          "metadata": {
            "tags": []
          },
          "execution_count": 50
        }
      ]
    },
    {
      "cell_type": "code",
      "metadata": {
        "id": "6coEooDIV2Z_",
        "colab_type": "code",
        "colab": {
          "base_uri": "https://localhost:8080/",
          "height": 34
        },
        "outputId": "98d3f35d-9199-4504-8531-2526e742ded4"
      },
      "source": [
        "st = {\"jd\",\"coding\",11,2504,267.5874,-2140}\n",
        "st.pop()"
      ],
      "execution_count": 52,
      "outputs": [
        {
          "output_type": "execute_result",
          "data": {
            "text/plain": [
              "-2140"
            ]
          },
          "metadata": {
            "tags": []
          },
          "execution_count": 52
        }
      ]
    },
    {
      "cell_type": "code",
      "metadata": {
        "id": "7Nt4aPH8WCGo",
        "colab_type": "code",
        "colab": {
          "base_uri": "https://localhost:8080/",
          "height": 34
        },
        "outputId": "c0c2ce33-0d5b-49fd-cf34-036aa27d23ad"
      },
      "source": [
        "st1 = {\"jd\",\"coding\",11,2504,267.5874,-2140}\n",
        "st2 = {\"name\",\"bmw\"}\n",
        "st2.union(st1)"
      ],
      "execution_count": 55,
      "outputs": [
        {
          "output_type": "execute_result",
          "data": {
            "text/plain": [
              "{-2140, 11, 2504, 267.5874, 'bmw', 'coding', 'jd', 'name'}"
            ]
          },
          "metadata": {
            "tags": []
          },
          "execution_count": 55
        }
      ]
    },
    {
      "cell_type": "code",
      "metadata": {
        "id": "UUHxCwESXUa5",
        "colab_type": "code",
        "colab": {
          "base_uri": "https://localhost:8080/",
          "height": 34
        },
        "outputId": "449e1689-12c0-4372-b5ef-2135cda0cdae"
      },
      "source": [
        "st1 = {\"jd\",\"coding\",11,2504,267.5874,-2140}\n",
        "st2 = {\"name\",\"bmw\"}\n",
        "st = st1|st2\n",
        "st.remove(-2140)\n",
        "st"
      ],
      "execution_count": 65,
      "outputs": [
        {
          "output_type": "execute_result",
          "data": {
            "text/plain": [
              "{11, 2504, 267.5874, 'bmw', 'coding', 'jd', 'name'}"
            ]
          },
          "metadata": {
            "tags": []
          },
          "execution_count": 65
        }
      ]
    },
    {
      "cell_type": "code",
      "metadata": {
        "id": "85ok_XGPYhyd",
        "colab_type": "code",
        "colab": {
          "base_uri": "https://localhost:8080/",
          "height": 34
        },
        "outputId": "422e1ffb-c913-4944-f2ff-f84d5f9d1d3c"
      },
      "source": [
        "tup = (\"jd\",\"coding\",11,2504,267.5874,-2140,\"@\",\"$\")\n",
        "tup"
      ],
      "execution_count": 66,
      "outputs": [
        {
          "output_type": "execute_result",
          "data": {
            "text/plain": [
              "('jd', 'coding', 11, 2504, 267.5874, -2140, '@', '$')"
            ]
          },
          "metadata": {
            "tags": []
          },
          "execution_count": 66
        }
      ]
    },
    {
      "cell_type": "code",
      "metadata": {
        "id": "_VQyNK_BZXus",
        "colab_type": "code",
        "colab": {
          "base_uri": "https://localhost:8080/",
          "height": 34
        },
        "outputId": "95be3d61-64fc-4ff5-b8ee-5a8cb639b0bb"
      },
      "source": [
        "tup = (\"jd\",\"coding\",11,2504,267.5874,-2140,11,\"@\",\"$\")\n",
        "tup.count(11)"
      ],
      "execution_count": 73,
      "outputs": [
        {
          "output_type": "execute_result",
          "data": {
            "text/plain": [
              "2"
            ]
          },
          "metadata": {
            "tags": []
          },
          "execution_count": 73
        }
      ]
    },
    {
      "cell_type": "code",
      "metadata": {
        "id": "yfsTguAeZno-",
        "colab_type": "code",
        "colab": {
          "base_uri": "https://localhost:8080/",
          "height": 34
        },
        "outputId": "8b63c0ca-c5be-4575-cd3d-b8d08f749020"
      },
      "source": [
        "tup = (\"jd\",\"coding\",11,2504,267.5874,-2140,\"@\",\"$\")\n",
        "tup.index(\"$\")"
      ],
      "execution_count": 70,
      "outputs": [
        {
          "output_type": "execute_result",
          "data": {
            "text/plain": [
              "7"
            ]
          },
          "metadata": {
            "tags": []
          },
          "execution_count": 70
        }
      ]
    },
    {
      "cell_type": "code",
      "metadata": {
        "id": "ifaKEa27acIl",
        "colab_type": "code",
        "colab": {
          "base_uri": "https://localhost:8080/",
          "height": 221
        },
        "outputId": "8fd251d4-6393-44f9-a785-11dcaa5fc21e"
      },
      "source": [
        "tup1 = (\"jd\",\"coding\",11,2504,267.5874,-2140,\"@\",\"$\")\n",
        "tup2 = ('abc', -4.24e93, 18+6.6j, 'xyz')\n",
        "tup = tup1 + tup2;\n",
        "tup"
      ],
      "execution_count": 78,
      "outputs": [
        {
          "output_type": "execute_result",
          "data": {
            "text/plain": [
              "('jd',\n",
              " 'coding',\n",
              " 11,\n",
              " 2504,\n",
              " 267.5874,\n",
              " -2140,\n",
              " '@',\n",
              " '$',\n",
              " 'abc',\n",
              " -4.24e+93,\n",
              " (18+6.6j),\n",
              " 'xyz')"
            ]
          },
          "metadata": {
            "tags": []
          },
          "execution_count": 78
        }
      ]
    },
    {
      "cell_type": "code",
      "metadata": {
        "id": "_-dO1KhedUIp",
        "colab_type": "code",
        "colab": {
          "base_uri": "https://localhost:8080/",
          "height": 34
        },
        "outputId": "72c35abf-8bf3-4c6e-cc97-06dfb69ed7ab"
      },
      "source": [
        "tup1 = (\"jd\",\"coding\",11,2504,267.5874,-2140,\"@\",\"$\")\n",
        "tup2 = ('abc', -4.24e93, 18+6.6j, 'xyz')\n",
        "tup = tup1 + tup2;\n",
        "tup.index('abc')"
      ],
      "execution_count": 80,
      "outputs": [
        {
          "output_type": "execute_result",
          "data": {
            "text/plain": [
              "8"
            ]
          },
          "metadata": {
            "tags": []
          },
          "execution_count": 80
        }
      ]
    },
    {
      "cell_type": "code",
      "metadata": {
        "id": "dhid97lRdj-n",
        "colab_type": "code",
        "colab": {
          "base_uri": "https://localhost:8080/",
          "height": 35
        },
        "outputId": "d28e7550-2d2b-4964-bb21-533817649ad7"
      },
      "source": [
        "str = {\"jd\",\"coding\",11,2504,267.5874,-2140,\"@\",\"$\",'abc', -4.24e93, 18+6.6j, 'xyz',}\n",
        "str.pop()"
      ],
      "execution_count": 101,
      "outputs": [
        {
          "output_type": "execute_result",
          "data": {
            "application/vnd.google.colaboratory.intrinsic+json": {
              "type": "string"
            },
            "text/plain": [
              "'@'"
            ]
          },
          "metadata": {
            "tags": []
          },
          "execution_count": 101
        }
      ]
    },
    {
      "cell_type": "code",
      "metadata": {
        "id": "rybRhcNDea86",
        "colab_type": "code",
        "colab": {
          "base_uri": "https://localhost:8080/",
          "height": 34
        },
        "outputId": "524e3c9d-5785-44e5-ac91-45a3d0b261fe"
      },
      "source": [
        "str = {\"jd\",\"coding\",11,2504,267.5874,-2140,\"@\",\"$\",'abc', -4.24e93, 18+6.6j, 'xyz',}\n",
        "str1 = {\"abs\",\"yeti\",\"ford\",\"jaguar\",\"me coding this\"}\n",
        "str1.issubset(str)"
      ],
      "execution_count": 83,
      "outputs": [
        {
          "output_type": "execute_result",
          "data": {
            "text/plain": [
              "False"
            ]
          },
          "metadata": {
            "tags": []
          },
          "execution_count": 83
        }
      ]
    },
    {
      "cell_type": "code",
      "metadata": {
        "id": "DYNOO1XzeuTS",
        "colab_type": "code",
        "colab": {
          "base_uri": "https://localhost:8080/",
          "height": 306
        },
        "outputId": "7b7df42a-0f3e-46d2-882d-1f4cf29629a4"
      },
      "source": [
        "str = {\"jd\",\"coding\",11,2504,267.5874,-2140,\"@\",\"$\",'abc', -4.24e93, 18+6.6j, 'xyz',}\n",
        "str1 = {\"abs\",\"yeti\",\"ford\",\"jaguar\",\"me coding this\"}\n",
        "str1.union(str)"
      ],
      "execution_count": 84,
      "outputs": [
        {
          "output_type": "execute_result",
          "data": {
            "text/plain": [
              "{'$',\n",
              " (18+6.6j),\n",
              " -2140,\n",
              " -4.24e+93,\n",
              " 11,\n",
              " 2504,\n",
              " 267.5874,\n",
              " '@',\n",
              " 'abc',\n",
              " 'abs',\n",
              " 'coding',\n",
              " 'ford',\n",
              " 'jaguar',\n",
              " 'jd',\n",
              " 'me coding this',\n",
              " 'xyz',\n",
              " 'yeti'}"
            ]
          },
          "metadata": {
            "tags": []
          },
          "execution_count": 84
        }
      ]
    },
    {
      "cell_type": "code",
      "metadata": {
        "id": "hYJIQ76ce0_v",
        "colab_type": "code",
        "colab": {
          "base_uri": "https://localhost:8080/",
          "height": 34
        },
        "outputId": "5ae6e4ea-0ac8-42db-dd6b-a52552c0d668"
      },
      "source": [
        "str = {\"jd\",\"coding\",11,2504,267.5874,-2140,\"@\",\"$\",'abc', -4.24e93, 18+6.6j, 'xyz',}\n",
        "str1 = {\"abs\",\"yeti\",\"ford\",\"jaguar\",\"me coding this\"}\n",
        "str1.remove('ford')\n",
        "str1"
      ],
      "execution_count": 94,
      "outputs": [
        {
          "output_type": "execute_result",
          "data": {
            "text/plain": [
              "{'abs', 'jaguar', 'me coding this', 'yeti'}"
            ]
          },
          "metadata": {
            "tags": []
          },
          "execution_count": 94
        }
      ]
    },
    {
      "cell_type": "code",
      "metadata": {
        "id": "ZBDJQotPfvAe",
        "colab_type": "code",
        "colab": {
          "base_uri": "https://localhost:8080/",
          "height": 35
        },
        "outputId": "83f8a7f6-1e7a-4853-f0e9-c9e18b7074ba"
      },
      "source": [
        "str1 = {\"abs\",\"yeti\",\"ford\",\"jaguar\",\"me coding this\"}\n",
        "str1.pop()"
      ],
      "execution_count": 104,
      "outputs": [
        {
          "output_type": "execute_result",
          "data": {
            "application/vnd.google.colaboratory.intrinsic+json": {
              "type": "string"
            },
            "text/plain": [
              "'ford'"
            ]
          },
          "metadata": {
            "tags": []
          },
          "execution_count": 104
        }
      ]
    }
  ]
}