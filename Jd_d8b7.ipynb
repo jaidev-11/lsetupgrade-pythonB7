{
  "nbformat": 4,
  "nbformat_minor": 0,
  "metadata": {
    "colab": {
      "name": "Jd_d8b7.ipynb",
      "provenance": [],
      "collapsed_sections": []
    },
    "kernelspec": {
      "name": "python3",
      "display_name": "Python 3"
    }
  },
  "cells": [
    {
      "cell_type": "code",
      "metadata": {
        "id": "q91PdOHUw9ub",
        "colab_type": "code",
        "colab": {}
      },
      "source": [
        "def fibonacci(n):\n",
        "  if n<=0:\n",
        "    print(\"Incorrect input\")\n",
        "  elif n==1:\n",
        "    return 0\n",
        "  elif n==2:\n",
        "    return 1\n",
        "  else:\n",
        "    return fibonacci(n-1)+fibonacci(n-2)"
      ],
      "execution_count": null,
      "outputs": []
    },
    {
      "cell_type": "code",
      "metadata": {
        "id": "QMgrCCFi_3Pg",
        "colab_type": "code",
        "colab": {
          "base_uri": "https://localhost:8080/",
          "height": 34
        },
        "outputId": "418fe585-e92e-4832-ab21-426f1dec8ac6"
      },
      "source": [
        "fibonacci(7)"
      ],
      "execution_count": null,
      "outputs": [
        {
          "output_type": "execute_result",
          "data": {
            "text/plain": [
              "8"
            ]
          },
          "metadata": {
            "tags": []
          },
          "execution_count": 48
        }
      ]
    },
    {
      "cell_type": "code",
      "metadata": {
        "id": "Xs-2OB2oAx8I",
        "colab_type": "code",
        "colab": {
          "base_uri": "https://localhost:8080/",
          "height": 34
        },
        "outputId": "685bfd1a-adf9-4faa-949c-cad44d0b8f95"
      },
      "source": [
        "def factorial(f): \n",
        "    memory = {} \n",
        "\n",
        "    def inner(num): \n",
        "        if num not in memory:          \n",
        "            memory[num] = f(num) \n",
        "        return memory[num]\n",
        "\n",
        "def factor(num): \n",
        "    if num == 1: \n",
        "        return 1\n",
        "    else: \n",
        "        return num * factor(num-1) \n",
        "  \n",
        "print(factor(4)) "
      ],
      "execution_count": 42,
      "outputs": [
        {
          "output_type": "stream",
          "text": [
            "24\n"
          ],
          "name": "stdout"
        }
      ]
    },
    {
      "cell_type": "code",
      "metadata": {
        "id": "go-zaVijeafx",
        "colab_type": "code",
        "colab": {
          "base_uri": "https://localhost:8080/",
          "height": 68
        },
        "outputId": "d9536f73-cd94-4792-f36b-7cdb4681c4db"
      },
      "source": [
        "try:\n",
        "  print(\"try block is been executed\")\n",
        "  file = open(\"itsme.txt\",\"r\")\n",
        "  file.write(\"This will add this line\")\n",
        "  file.close()\n",
        "  \n",
        "except:\n",
        "  print(\"unsupported operation except block is been executed\")\n",
        "  file = open(\"itsme.txt\",\"r+\")\n",
        "  file.write(\"this will add this line\")\n",
        "  file.close()\n",
        "\n",
        "finally:\n",
        "  print(\"out of try except blocks\")"
      ],
      "execution_count": 41,
      "outputs": [
        {
          "output_type": "stream",
          "text": [
            "try block is been executed\n",
            "unsupported operation except block is been executed\n",
            "out of try except blocks\n"
          ],
          "name": "stdout"
        }
      ]
    }
  ]
}