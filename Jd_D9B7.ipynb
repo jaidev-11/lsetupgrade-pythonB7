{
  "nbformat": 4,
  "nbformat_minor": 0,
  "metadata": {
    "colab": {
      "name": "Jd_D9B7.ipynb",
      "provenance": [],
      "collapsed_sections": []
    },
    "kernelspec": {
      "name": "python3",
      "display_name": "Python 3"
    }
  },
  "cells": [
    {
      "cell_type": "code",
      "metadata": {
        "id": "CjG8n4GvevfD",
        "colab_type": "code",
        "colab": {
          "base_uri": "https://localhost:8080/",
          "height": 34
        },
        "outputId": "4f3333d0-2577-453a-ce5e-537b52b36d58"
      },
      "source": [
        "%%writefile Prime_code.py\n",
        "'''\n",
        "its a prime num checking program\n",
        "'''\n",
        "def is_prime(num):\n",
        "    '''\n",
        "    its a prime number checking program\n",
        "    '''\n",
        "    if num <= 1:\n",
        "        return False\n",
        "    if num <= 3:\n",
        "        return True\n",
        "    if num % 2 == 0 or num % 3 == 0:\n",
        "        return False\n",
        "    i = 5\n",
        "    while i * i <= num:\n",
        "        if num % i == 0 or num % (i + 2) == 0:\n",
        "            return False\n",
        "        i = i + 6\n",
        "        return True\n",
        "    if is_prime(11):\n",
        "        print(\"True\")\n",
        "    else:\n",
        "        print(\"False\")\n",
        "    if is_prime(15):\n",
        "        print(\"True\")\n",
        "    else:\n",
        "        print(\"False\")\n",
        "        "
      ],
      "execution_count": 9,
      "outputs": [
        {
          "output_type": "stream",
          "text": [
            "Overwriting Prime_code.py\n"
          ],
          "name": "stdout"
        }
      ]
    },
    {
      "cell_type": "code",
      "metadata": {
        "id": "c-QlEVOhe0fx",
        "colab_type": "code",
        "colab": {
          "base_uri": "https://localhost:8080/",
          "height": 119
        },
        "outputId": "b46d7298-f750-4202-d54a-018c5b43982d"
      },
      "source": [
        "! pylint Prime_code.py"
      ],
      "execution_count": 11,
      "outputs": [
        {
          "output_type": "stream",
          "text": [
            "************* Module Prime_code\n",
            "Prime_code.py:1:0: C0103: Module name \"Prime_code\" doesn't conform to snake_case naming style (invalid-name)\n",
            "\n",
            "------------------------------------------------------------------\n",
            "Your code has been rated at 9.47/10 (previous run: 9.47/10, +0.00)\n",
            "\n"
          ],
          "name": "stdout"
        }
      ]
    },
    {
      "cell_type": "code",
      "metadata": {
        "id": "CBK3un2feJvh",
        "colab_type": "code",
        "colab": {
          "base_uri": "https://localhost:8080/",
          "height": 119
        },
        "outputId": "7e2c2ef0-ff8a-46b2-c484-a206943acba9"
      },
      "source": [
        "lower = int(input(\"enter the lower limit \"))\n",
        "upper = int(input(\"enter the upper limit \"))\n",
        "\n",
        "for num in range(lower, upper + 1):\n",
        "\n",
        "   # order of number\n",
        "   order = len(str(num))\n",
        "    \n",
        "   # initialize sum\n",
        "   sum = 0\n",
        "\n",
        "   temp = num\n",
        "   while temp > 0:\n",
        "       digit = temp % 10\n",
        "       sum += digit ** order\n",
        "       temp //= 10\n",
        "\n",
        "   if num == sum:\n",
        "       print(num)\n",
        "       pass\n",
        "   else:\n",
        "     pass"
      ],
      "execution_count": 12,
      "outputs": [
        {
          "output_type": "stream",
          "text": [
            "enter the lower limit 100\n",
            "enter the upper limit 1000\n",
            "153\n",
            "370\n",
            "371\n",
            "407\n"
          ],
          "name": "stdout"
        }
      ]
    },
    {
      "cell_type": "code",
      "metadata": {
        "id": "zH00_GWWfE5T",
        "colab_type": "code",
        "colab": {
          "base_uri": "https://localhost:8080/",
          "height": 85
        },
        "outputId": "61ba7c96-978c-4f6d-d82c-4882971d99a5"
      },
      "source": [
        "def simpleFun():\n",
        "    yield 153\n",
        "    yield 370\n",
        "    yield 371\n",
        "    yield 407\n",
        "\n",
        "x = simpleFun() \n",
        "\n",
        "print(x.__next__())\n",
        "print(x.__next__())\n",
        "print(x.__next__())\n",
        "print(x.__next__())"
      ],
      "execution_count": 13,
      "outputs": [
        {
          "output_type": "stream",
          "text": [
            "153\n",
            "370\n",
            "371\n",
            "407\n"
          ],
          "name": "stdout"
        }
      ]
    }
  ]
}